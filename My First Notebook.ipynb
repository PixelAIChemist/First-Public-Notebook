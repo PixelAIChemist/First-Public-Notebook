{
 "cells": [
  {
   "cell_type": "markdown",
   "id": "cbad63a7",
   "metadata": {
    "scrolled": true
   },
   "source": [
    "# My First Notebook\n",
    "\n",
    "## Introduction\n",
    "This is my first JupyterNotebook."
   ]
  },
  {
   "cell_type": "markdown",
   "id": "300c0424",
   "metadata": {},
   "source": [
    "### Data science languages:\n",
    "- R\n",
    "- Python\n",
    "- Scala\n",
    "- Julia\n",
    "- SQL\n",
    "\n"
   ]
  },
  {
   "cell_type": "markdown",
   "id": "8db5e002",
   "metadata": {},
   "source": [
    "### Data science libraries:\n",
    "- ggplot1 and ggplot2\n",
    "- seaborn\n",
    "- GGally\n",
    "- dplyr\n",
    "- matplotlib\n",
    "- pandas\n",
    "- numpy\n",
    "    "
   ]
  },
  {
   "cell_type": "markdown",
   "id": "844d6ce8",
   "metadata": {},
   "source": [
    "### Data science tools:\n",
    "\n",
    "|Programming languages|IDEs|Data Manipulation and Analysis |\n",
    "|--------|-------|-------|\n",
    "|R | Visual Studio | Pandas|\n",
    "|Python | Jupyter Notebooks | Numpy|\n"
   ]
  },
  {
   "cell_type": "markdown",
   "id": "fc2ab0f0",
   "metadata": {},
   "source": [
    "### Arithmetic Example\n",
    "The following code block computes a sum and a product of two integers. a = 7 and b = 8, and I compute c = a + b and d = a * b."
   ]
  },
  {
   "cell_type": "code",
   "execution_count": 7,
   "id": "08a907ec",
   "metadata": {},
   "outputs": [
    {
     "name": "stdout",
     "output_type": "stream",
     "text": [
      "Sum: 15 Product: 56\n"
     ]
    }
   ],
   "source": [
    "a = 7\n",
    "b = 8\n",
    "c = a + b\n",
    "d = a * b\n",
    "print(\"Sum: \" + str(c), \"Product: \" + str(d))"
   ]
  },
  {
   "cell_type": "markdown",
   "id": "9f702fed",
   "metadata": {},
   "source": [
    "### Converting Minutes to Hours\n",
    "The following code converts minutes to hours"
   ]
  },
  {
   "cell_type": "code",
   "execution_count": 16,
   "id": "c4f00b1e",
   "metadata": {},
   "outputs": [
    {
     "data": {
      "text/plain": [
       "2.3"
      ]
     },
     "execution_count": 16,
     "metadata": {},
     "output_type": "execute_result"
    }
   ],
   "source": [
    "# Create the convert_to_hours function\n",
    "def convert_to_hours(minutes):\n",
    "    hours = minutes / 60\n",
    "    return hours\n",
    "\n",
    "# Test the funtion with some data\n",
    "test = 138\n",
    "convert_to_hours(test)"
   ]
  },
  {
   "cell_type": "markdown",
   "id": "658b3afa",
   "metadata": {},
   "source": [
    "### Objectives\n",
    "\n",
    "- Learn Python, R, and SQL\n",
    "- Land a job in Data science"
   ]
  },
  {
   "cell_type": "markdown",
   "id": "31d23e05",
   "metadata": {},
   "source": [
    "### Author's Name\n",
    "Sibelius"
   ]
  },
  {
   "cell_type": "code",
   "execution_count": null,
   "id": "7f5cfb97",
   "metadata": {},
   "outputs": [],
   "source": []
  }
 ],
 "metadata": {
  "kernelspec": {
   "display_name": "Python 3 (ipykernel)",
   "language": "python",
   "name": "python3"
  },
  "language_info": {
   "codemirror_mode": {
    "name": "ipython",
    "version": 3
   },
   "file_extension": ".py",
   "mimetype": "text/x-python",
   "name": "python",
   "nbconvert_exporter": "python",
   "pygments_lexer": "ipython3",
   "version": "3.11.5"
  }
 },
 "nbformat": 4,
 "nbformat_minor": 5
}
